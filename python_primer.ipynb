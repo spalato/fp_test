{
 "cells": [
  {
   "cell_type": "markdown",
   "id": "considered-stand",
   "metadata": {},
   "source": [
    "# Intro"
   ]
  },
  {
   "cell_type": "markdown",
   "id": "committed-showcase",
   "metadata": {},
   "source": [
    "The purpose of this notebook is to demonstrate some basic ideas and concept necessary to data analysis using `python`. The objective is not to teach generic programming using python! Instead, it tries to introduce the strict minimum to be able to do data analysis.\n",
    "\n",
    "A lot of the content is inspired directly by \"Learn Python in Y minutes\": https://learnxinyminutes.com/docs/python/. That page is aimed at people with some experience in programming, but it contains a very good series of links at the bottom.\n",
    "\n",
    "This document is licensed under: CC BY-SA 3.0\n",
    "https://creativecommons.org/licenses/by-sa/3.0/deed.en_US"
   ]
  },
  {
   "cell_type": "markdown",
   "id": "loaded-voluntary",
   "metadata": {},
   "source": [
    "# Python, Jupyter, etc"
   ]
  },
  {
   "cell_type": "markdown",
   "id": "substantial-vacuum",
   "metadata": {},
   "source": [
    "`Python` is a generic programming language which emphasizes readability. As a generic programming language, it does not target specifically data analysis: it can as well solve generic programming language, run servers, etc. However, it's readability (and good design in general) makes it relatively comparatively easy to learn and use. That makes it quite popular. It's used by single programmer and small scientific teams, as well as large institutes and corporations (like google)."
   ]
  },
  {
   "cell_type": "markdown",
   "id": "honey-period",
   "metadata": {},
   "source": [
    "There are multiple ways to run python. It can be run directly to run a `.py` file from the command line. It can also be used inside other environments. The one we are currently using is called `Jupyter lab`. `Jupyter` lets you run python code in an interactive manner, and is displayed in your browser. The code in generally run in *notebooks* (`.ipynb` files) which is what you are currently looking at.\n",
    "\n",
    "The notebook is divided into cells. Cells can be of 3 types: \n",
    "- code, which can be run;\n",
    "- markdown, for formatted text like this;\n",
    "- raw, if you're trying to write a book (we won't need this)...  \n",
    "\n",
    "The current cell is a markdown cell.\n",
    "\n",
    "Cells can be executed by pressing `Shift+Enter`. If you double-click on the current text, the cell will change to edit mode. You can execute it and advance to the next cell by pressing `Shift+Enter` or the little \"play\" arrow at the top. There are other ways to do this, check the \"Run\" menu at the top.\n",
    "\n",
    "For each notebook, Jupyter runs a *kernel*. The kernel executes the code sent to it, and communicates back the result. \n",
    "That lets us run code interactively. Careful when running the same code multiple times! The kernel can be stopped and restarted using the \"kernel\" menu or using some of the buttons. Jupyter supports many languages (over 40, as of this writing), but currently we are using python.\n",
    "\n",
    "Below are a few examples of code cells. \n",
    "\n",
    "You can try it on the cells below: click in them, and press `Shift+Enter`."
   ]
  },
  {
   "cell_type": "code",
   "execution_count": 109,
   "id": "universal-feeling",
   "metadata": {},
   "outputs": [
    {
     "data": {
      "text/plain": [
       "2"
      ]
     },
     "execution_count": 109,
     "metadata": {},
     "output_type": "execute_result"
    }
   ],
   "source": [
    "1 + 1"
   ]
  },
  {
   "cell_type": "markdown",
   "id": "focused-metropolitan",
   "metadata": {},
   "source": [
    "By default only the last line gets shown to us (otherwise there would usually be waaay too much), but all the cell gets executed. "
   ]
  },
  {
   "cell_type": "code",
   "execution_count": 56,
   "id": "through-lewis",
   "metadata": {},
   "outputs": [
    {
     "data": {
      "text/plain": [
       "8.0"
      ]
     },
     "execution_count": 56,
     "metadata": {},
     "output_type": "execute_result"
    }
   ],
   "source": [
    "# this is a `comment`, it starts with a single `#`. It is ignored, it's just for humans to read.\n",
    "a = 10 # comments run until the end of a line\n",
    "b = a/2  \n",
    "b+3  "
   ]
  },
  {
   "cell_type": "markdown",
   "id": "exposed-terminology",
   "metadata": {},
   "source": [
    "If we want to display multiple values, we can use the `print` function."
   ]
  },
  {
   "cell_type": "code",
   "execution_count": 58,
   "id": "exempt-paste",
   "metadata": {},
   "outputs": [
    {
     "name": "stdout",
     "output_type": "stream",
     "text": [
      "a is currently 10\n",
      "a is now 5.0\n"
     ]
    },
    {
     "data": {
      "text/plain": [
       "8.0"
      ]
     },
     "execution_count": 58,
     "metadata": {},
     "output_type": "execute_result"
    }
   ],
   "source": [
    "a = 10\n",
    "print(\"a is currently\", a)\n",
    "# this updates the value of `a`. The RHS is evaluated first, and the result is stored in `a`.\n",
    "a = a / 2\n",
    "print(\"a is now\", a)\n",
    "a+3"
   ]
  },
  {
   "cell_type": "markdown",
   "id": "polish-librarian",
   "metadata": {},
   "source": [
    "# Variables and basic data types\n",
    "\n",
    "Data has to be stored in variables. Variables are names by which we can refer to data. The names must be made by a single word without spaces, and without special characters. Letters, numbers and the underscore are allowed. The variable name must not start with a number. Apart from this, `python` keeps track of the type and value of variables on it's own."
   ]
  },
  {
   "cell_type": "markdown",
   "id": "early-vision",
   "metadata": {},
   "source": [
    "## Integers\n",
    "Integers (or `int`) are... integer numbers, including negative. They are most often use when counting things."
   ]
  },
  {
   "cell_type": "code",
   "execution_count": 111,
   "id": "increased-respect",
   "metadata": {},
   "outputs": [
    {
     "data": {
      "text/plain": [
       "1"
      ]
     },
     "execution_count": 111,
     "metadata": {},
     "output_type": "execute_result"
    }
   ],
   "source": [
    "1"
   ]
  },
  {
   "cell_type": "code",
   "execution_count": 112,
   "id": "distributed-deviation",
   "metadata": {},
   "outputs": [
    {
     "data": {
      "text/plain": [
       "int"
      ]
     },
     "execution_count": 112,
     "metadata": {},
     "output_type": "execute_result"
    }
   ],
   "source": [
    "type(1)  # we can get the type of an object using the function called `type`"
   ]
  },
  {
   "cell_type": "code",
   "execution_count": 113,
   "id": "proved-technology",
   "metadata": {},
   "outputs": [
    {
     "data": {
      "text/plain": [
       "int"
      ]
     },
     "execution_count": 113,
     "metadata": {},
     "output_type": "execute_result"
    }
   ],
   "source": [
    "some_useful_name = 1  # we are storing the value `1` in the variable `a`\n",
    "type(some_useful_name)"
   ]
  },
  {
   "cell_type": "code",
   "execution_count": 59,
   "id": "logical-announcement",
   "metadata": {},
   "outputs": [
    {
     "name": "stdout",
     "output_type": "stream",
     "text": [
      "2\n",
      "-3\n"
     ]
    }
   ],
   "source": [
    "# maths behave as you would expect, most of the time...\n",
    "print(1+1)\n",
    "print(5-8)"
   ]
  },
  {
   "cell_type": "code",
   "execution_count": 60,
   "id": "square-script",
   "metadata": {},
   "outputs": [
    {
     "name": "stdout",
     "output_type": "stream",
     "text": [
      "20\n",
      "5.0\n"
     ]
    }
   ],
   "source": [
    "# mutiplication is done with `*`, division by `/`\n",
    "print(10*2)\n",
    "print(10 / 2) # results in 5.0, which is a float, not integer"
   ]
  },
  {
   "cell_type": "code",
   "execution_count": 61,
   "id": "deluxe-friendly",
   "metadata": {},
   "outputs": [
    {
     "data": {
      "text/plain": [
       "100"
      ]
     },
     "execution_count": 61,
     "metadata": {},
     "output_type": "execute_result"
    }
   ],
   "source": [
    "# exponent using `**`\n",
    "10 ** 2 "
   ]
  },
  {
   "cell_type": "code",
   "execution_count": 62,
   "id": "blocked-validation",
   "metadata": {},
   "outputs": [
    {
     "data": {
      "text/plain": [
       "8"
      ]
     },
     "execution_count": 62,
     "metadata": {},
     "output_type": "execute_result"
    }
   ],
   "source": [
    "# parentheses enforce precendence\n",
    "(1+3)*2"
   ]
  },
  {
   "cell_type": "code",
   "execution_count": 63,
   "id": "structured-wealth",
   "metadata": {},
   "outputs": [
    {
     "data": {
      "text/plain": [
       "10000"
      ]
     },
     "execution_count": 63,
     "metadata": {},
     "output_type": "execute_result"
    }
   ],
   "source": [
    "# to improve readability, you can include `_`\n",
    "10_000"
   ]
  },
  {
   "cell_type": "markdown",
   "id": "welsh-significance",
   "metadata": {},
   "source": [
    "## Sidenote 1: When errors happen\n",
    "\n",
    "Errors in python are called `Exceptions`. When an error happens, an exception is thrown, and an error message is printed. Errors try be informative. The complete error message is called a `Traceback`: it displays the type of exception, the line where it happened and complementary information. Usually, there is human readable error message. \n",
    "\n",
    "When the exception occurs somehwere else, such as inside a function, the traceback should contain multiple entries showing us every step along the way. We'll see this later.\n",
    "\n",
    "It takes a bit of practice to learn to read `Tracebacks`, but they are usually quite helpful. "
   ]
  },
  {
   "cell_type": "code",
   "execution_count": 72,
   "id": "roman-spoke",
   "metadata": {},
   "outputs": [
    {
     "ename": "ZeroDivisionError",
     "evalue": "division by zero",
     "output_type": "error",
     "traceback": [
      "\u001b[1;31m---------------------------------------------------------------------------\u001b[0m",
      "\u001b[1;31mZeroDivisionError\u001b[0m                         Traceback (most recent call last)",
      "\u001b[1;32m<ipython-input-72-bb2d30101e9d>\u001b[0m in \u001b[0;36m<module>\u001b[1;34m()\u001b[0m\n\u001b[0;32m      1\u001b[0m \u001b[1;31m# here is a simple division by 0 error.\u001b[0m\u001b[1;33m\u001b[0m\u001b[1;33m\u001b[0m\u001b[1;33m\u001b[0m\u001b[0m\n\u001b[0;32m      2\u001b[0m \u001b[0ma\u001b[0m \u001b[1;33m=\u001b[0m \u001b[1;36m0\u001b[0m\u001b[1;33m\u001b[0m\u001b[1;33m\u001b[0m\u001b[0m\n\u001b[1;32m----> 3\u001b[1;33m \u001b[1;36m5\u001b[0m\u001b[1;33m/\u001b[0m\u001b[0ma\u001b[0m\u001b[1;33m\u001b[0m\u001b[1;33m\u001b[0m\u001b[0m\n\u001b[0m",
      "\u001b[1;31mZeroDivisionError\u001b[0m: division by zero"
     ]
    }
   ],
   "source": [
    "# here is a simple division by 0 error.\n",
    "a = 0\n",
    "5/a"
   ]
  },
  {
   "cell_type": "code",
   "execution_count": 73,
   "id": "monthly-austria",
   "metadata": {},
   "outputs": [
    {
     "ename": "NameError",
     "evalue": "name 'yqwunave' is not defined",
     "output_type": "error",
     "traceback": [
      "\u001b[1;31m---------------------------------------------------------------------------\u001b[0m",
      "\u001b[1;31mNameError\u001b[0m                                 Traceback (most recent call last)",
      "\u001b[1;32m<ipython-input-73-fe93674962c7>\u001b[0m in \u001b[0;36m<module>\u001b[1;34m()\u001b[0m\n\u001b[0;32m      1\u001b[0m \u001b[1;31m# the variable below does not exist\u001b[0m\u001b[1;33m\u001b[0m\u001b[1;33m\u001b[0m\u001b[1;33m\u001b[0m\u001b[0m\n\u001b[1;32m----> 2\u001b[1;33m \u001b[0myqwunave\u001b[0m\u001b[1;33m\u001b[0m\u001b[1;33m\u001b[0m\u001b[0m\n\u001b[0m",
      "\u001b[1;31mNameError\u001b[0m: name 'yqwunave' is not defined"
     ]
    }
   ],
   "source": [
    "# the variable below does not exist\n",
    "yqwunave"
   ]
  },
  {
   "cell_type": "markdown",
   "id": "another-cyprus",
   "metadata": {},
   "source": [
    "## Floats\n",
    "Floats are real numbers. They can also be negative, and maths behave .. as you would expect."
   ]
  },
  {
   "cell_type": "code",
   "execution_count": 67,
   "id": "conventional-lecture",
   "metadata": {},
   "outputs": [
    {
     "data": {
      "text/plain": [
       "float"
      ]
     },
     "execution_count": 67,
     "metadata": {},
     "output_type": "execute_result"
    }
   ],
   "source": [
    "type(1.0) # note it's different from type(1), which is int"
   ]
  },
  {
   "cell_type": "code",
   "execution_count": 68,
   "id": "convinced-property",
   "metadata": {},
   "outputs": [
    {
     "name": "stdout",
     "output_type": "stream",
     "text": [
      "3.5\n",
      "-11.2\n",
      "6.2832\n",
      "5.0\n"
     ]
    }
   ],
   "source": [
    "# maths still behave as before\n",
    "print(1.0 + 2.5)\n",
    "print(10.3 - 21.5)\n",
    "print(2*3.1416)\n",
    "print(25.0 ** (0.5))"
   ]
  },
  {
   "cell_type": "code",
   "execution_count": 69,
   "id": "fewer-coordination",
   "metadata": {},
   "outputs": [
    {
     "data": {
      "text/plain": [
       "1.62e-06"
      ]
     },
     "execution_count": 69,
     "metadata": {},
     "output_type": "execute_result"
    }
   ],
   "source": [
    "# you can use scientific notation\n",
    "1.6E-6 + 2E-8"
   ]
  },
  {
   "cell_type": "code",
   "execution_count": 70,
   "id": "failing-taste",
   "metadata": {},
   "outputs": [
    {
     "data": {
      "text/plain": [
       "4.52"
      ]
     },
     "execution_count": 70,
     "metadata": {},
     "output_type": "execute_result"
    }
   ],
   "source": [
    "# mixing ints and floats will generally result in what you'd expect\n",
    "1 + 3.52"
   ]
  },
  {
   "cell_type": "markdown",
   "id": "understanding-rescue",
   "metadata": {},
   "source": [
    "## Sidenote 2: importing things\n",
    "Python is a generic programming language, it is designed to do generic programming. As such, it is used in many places, such as data analysis (for us), web applications, servers, etc. All these tasks require specialized tools, which are collected in `modules`. These modules are not loaded when we start python, we need to load them every time we start a new instance of `python`.\n",
    "\n",
    "Modules are loaded using the `import` statement. When using `import`, we can give an alias to the `module` (to save some typing), or load specific functions. Normally, the import statements are collected at the start of the file.\n",
    "\n",
    "As an example, (which we will need below), let's use the square-root function `sqrt`. It is available in the module, called `math`, which also contains other similar function such as logarithm, cosine, etc. There is an equivalent module for use with complex numbers, called `cmath`.\n",
    "\n"
   ]
  },
  {
   "cell_type": "code",
   "execution_count": 74,
   "id": "going-dealing",
   "metadata": {},
   "outputs": [
    {
     "data": {
      "text/plain": [
       "5.0"
      ]
     },
     "execution_count": 74,
     "metadata": {},
     "output_type": "execute_result"
    }
   ],
   "source": [
    "# simplest way to import. We can access the content of math as `math.function_name`.\n",
    "import math \n",
    "math.sqrt(25)"
   ]
  },
  {
   "cell_type": "code",
   "execution_count": 112,
   "id": "restricted-fabric",
   "metadata": {},
   "outputs": [
    {
     "name": "stdout",
     "output_type": "stream",
     "text": [
      "5.0\n",
      "-1.0\n"
     ]
    }
   ],
   "source": [
    "# If we think the module name is too long, and we want to give it a shorter name:\n",
    "import math as m\n",
    "print(m.sqrt(25))\n",
    "print(m.cos(m.pi))  # cos pi"
   ]
  },
  {
   "cell_type": "code",
   "execution_count": 113,
   "id": "practical-bradford",
   "metadata": {},
   "outputs": [
    {
     "data": {
      "text/plain": [
       "5.0"
      ]
     },
     "execution_count": 113,
     "metadata": {},
     "output_type": "execute_result"
    }
   ],
   "source": [
    "# we can also import specific content, as follows:\n",
    "from math import sqrt\n",
    "sqrt(25)"
   ]
  },
  {
   "cell_type": "markdown",
   "id": "eight-crazy",
   "metadata": {},
   "source": [
    "Many modules come with python. You can write your own. Many more are available online, from trusted sources. Modules in widespread use are generally safe, but they can do almost anything."
   ]
  },
  {
   "cell_type": "markdown",
   "id": "graphic-floor",
   "metadata": {},
   "source": [
    "## Complex\n",
    "Python has complex numbers built in. The imaginary part is noted `j`, as in engineering work. (`i` is used a lot to designate the index in a sum or vector)."
   ]
  },
  {
   "cell_type": "code",
   "execution_count": 85,
   "id": "sacred-information",
   "metadata": {},
   "outputs": [
    {
     "data": {
      "text/plain": [
       "((3-0.5j), complex)"
      ]
     },
     "execution_count": 85,
     "metadata": {},
     "output_type": "execute_result"
    }
   ],
   "source": [
    "a = 3 - 0.5j\n",
    "a, type(a)"
   ]
  },
  {
   "cell_type": "markdown",
   "id": "informal-upper",
   "metadata": {},
   "source": [
    "We not take $\\sqrt{-25}$, which should be $5\\mathrm{i}$. Note the output has a very small real part. This is a numerical error, it's a consequence of approximating numbers using a finite precision."
   ]
  },
  {
   "cell_type": "code",
   "execution_count": 95,
   "id": "retired-chemistry",
   "metadata": {},
   "outputs": [
    {
     "data": {
      "text/plain": [
       "(3.061616997868383e-16+5j)"
      ]
     },
     "execution_count": 95,
     "metadata": {},
     "output_type": "execute_result"
    }
   ],
   "source": [
    "(-25.0)**(0.5)"
   ]
  },
  {
   "cell_type": "markdown",
   "id": "united-voluntary",
   "metadata": {},
   "source": [
    "## Booleans\n",
    "Booleans (type `bool`) are logical values: `True` or `False` to indicate conditions. They can be combined with logical operators (`and`, `or`, etc.)."
   ]
  },
  {
   "cell_type": "code",
   "execution_count": 88,
   "id": "vocational-alfred",
   "metadata": {},
   "outputs": [
    {
     "data": {
      "text/plain": [
       "(True, bool)"
      ]
     },
     "execution_count": 88,
     "metadata": {},
     "output_type": "execute_result"
    }
   ],
   "source": [
    "True, type(True)"
   ]
  },
  {
   "cell_type": "code",
   "execution_count": 89,
   "id": "arctic-clear",
   "metadata": {},
   "outputs": [
    {
     "name": "stdout",
     "output_type": "stream",
     "text": [
      "False\n",
      "True\n"
     ]
    }
   ],
   "source": [
    "print(True and False)\n",
    "print(True or False)"
   ]
  },
  {
   "cell_type": "code",
   "execution_count": 90,
   "id": "adjustable-consumer",
   "metadata": {},
   "outputs": [
    {
     "data": {
      "text/plain": [
       "False"
      ]
     },
     "execution_count": 90,
     "metadata": {},
     "output_type": "execute_result"
    }
   ],
   "source": [
    "not True"
   ]
  },
  {
   "cell_type": "code",
   "execution_count": 116,
   "id": "ruled-extent",
   "metadata": {},
   "outputs": [
    {
     "name": "stdout",
     "output_type": "stream",
     "text": [
      "True\n"
     ]
    }
   ],
   "source": [
    "# we can compare numbers\n",
    "print(1 < 5.0)"
   ]
  },
  {
   "cell_type": "code",
   "execution_count": 119,
   "id": "centered-trash",
   "metadata": {},
   "outputs": [
    {
     "data": {
      "text/plain": [
       "True"
      ]
     },
     "execution_count": 119,
     "metadata": {},
     "output_type": "execute_result"
    }
   ],
   "source": [
    "# `==` means equality (whereas `=` means assignment.)\n",
    "1 == 1"
   ]
  },
  {
   "cell_type": "code",
   "execution_count": 118,
   "id": "adjusted-association",
   "metadata": {},
   "outputs": [
    {
     "data": {
      "text/plain": [
       "False"
      ]
     },
     "execution_count": 118,
     "metadata": {},
     "output_type": "execute_result"
    }
   ],
   "source": [
    "# note the difference between `=` and `==`\n",
    "a = 4  # set variable a to 4; 4 = a is not allowed!\n",
    "a == 3  # check if a == 3; 3 == a is the same thing!"
   ]
  },
  {
   "cell_type": "code",
   "execution_count": 103,
   "id": "nasty-observation",
   "metadata": {},
   "outputs": [
    {
     "name": "stdout",
     "output_type": "stream",
     "text": [
      "2!=1     True\n",
      "1 < 10   True\n",
      "11 > 10  True\n",
      "10 > 10  False\n",
      "10 >= 10 True\n",
      "10 <= 10 True\n"
     ]
    }
   ],
   "source": [
    "print(\"2!=1    \", 2 != 1)  # inequality\n",
    "print(\"1 < 10  \", 1 < 10)  # less than\n",
    "print(\"11 > 10 \", 11 > 10) # greater than\n",
    "print(\"10 > 10 \", 10 > 10)\n",
    "print(\"10 >= 10\", 10 >= 10)  # greater or equal\n",
    "print(\"10 <= 10\", 10 <= 10) # less or equal"
   ]
  },
  {
   "cell_type": "code",
   "execution_count": 121,
   "id": "atlantic-hayes",
   "metadata": {},
   "outputs": [
    {
     "name": "stdout",
     "output_type": "stream",
     "text": [
      "1 < 2 < 3 True\n",
      "a < b < c True\n"
     ]
    }
   ],
   "source": [
    "# we can chain\n",
    "print(\"1 < 2 < 3\", 1 < 2 < 3)\n",
    "a = 1.2\n",
    "b = 8.5\n",
    "c = 10.6\n",
    "print(\"a < b < c\", a < b < c)"
   ]
  },
  {
   "cell_type": "markdown",
   "id": "violent-sound",
   "metadata": {},
   "source": [
    "## Strings\n",
    "Strings are used to store text, for example file names. Storing special characters is possible, but more complicated. They are created by surrounding the contents with `\"` or `'`."
   ]
  },
  {
   "cell_type": "code",
   "execution_count": 122,
   "id": "logical-behavior",
   "metadata": {},
   "outputs": [
    {
     "data": {
      "text/plain": [
       "('my_very_important_file.txt', str)"
      ]
     },
     "execution_count": 122,
     "metadata": {},
     "output_type": "execute_result"
    }
   ],
   "source": [
    "\"my_very_important_file.txt\", type(\"my_very_important_file.txt\")"
   ]
  },
  {
   "cell_type": "code",
   "execution_count": 123,
   "id": "reduced-hartford",
   "metadata": {},
   "outputs": [
    {
     "data": {
      "text/plain": [
       "'data_file.txt'"
      ]
     },
     "execution_count": 123,
     "metadata": {},
     "output_type": "execute_result"
    }
   ],
   "source": [
    "# can be joined together (concatenated) using `+`\n",
    "name = \"data_file\"\n",
    "extension = \".txt\"\n",
    "name + extension"
   ]
  },
  {
   "cell_type": "code",
   "execution_count": 135,
   "id": "sufficient-community",
   "metadata": {},
   "outputs": [
    {
     "data": {
      "text/plain": [
       "(str, str, '11.5')"
      ]
     },
     "execution_count": 135,
     "metadata": {},
     "output_type": "execute_result"
    }
   ],
   "source": [
    "# note that numbers stored as text count as strings, not numbers.\n",
    "type(\"1\"), type(\"1.5\"), \"1\" + \"1.5\""
   ]
  },
  {
   "cell_type": "code",
   "execution_count": 136,
   "id": "recorded-perspective",
   "metadata": {},
   "outputs": [
    {
     "data": {
      "text/plain": [
       "2.5"
      ]
     },
     "execution_count": 136,
     "metadata": {},
     "output_type": "execute_result"
    }
   ],
   "source": [
    "# we can convert strings to numbers\n",
    "int(\"1\") + float(\"1.5\")"
   ]
  },
  {
   "cell_type": "code",
   "execution_count": 137,
   "id": "coordinated-consumption",
   "metadata": {},
   "outputs": [
    {
     "data": {
      "text/plain": [
       "('1.0', str)"
      ]
     },
     "execution_count": 137,
     "metadata": {},
     "output_type": "execute_result"
    }
   ],
   "source": [
    "# and vice versa\n",
    "str(1.0), type(str(1.0))"
   ]
  },
  {
   "cell_type": "markdown",
   "id": "comic-beach",
   "metadata": {},
   "source": [
    "# Collections\n",
    "\n",
    "Collections are data types which contain multiple things. For example, a list of numbers, a list of file names. There are many types of collections. We will introduce three: `strings`, `lists` and `numpy arrays`.\n",
    "\n",
    "We'll demonstrate the basic ideas using strings first."
   ]
  },
  {
   "cell_type": "markdown",
   "id": "written-efficiency",
   "metadata": {},
   "source": [
    "## Indexing\n",
    "\n",
    "Collections contain multiple other items. We can obtain the number of times "
   ]
  },
  {
   "cell_type": "code",
   "execution_count": 148,
   "id": "perfect-creek",
   "metadata": {},
   "outputs": [],
   "source": [
    "# Collections and numpy arrays\n",
    "## basic imports\n",
    "\n",
    "## basic arrays\n",
    "\n",
    "## array creation\n",
    "\n",
    "## indexing\n",
    "\n"
   ]
  },
  {
   "cell_type": "code",
   "execution_count": 150,
   "id": "killing-alexander",
   "metadata": {},
   "outputs": [],
   "source": [
    "# functions"
   ]
  },
  {
   "cell_type": "code",
   "execution_count": 149,
   "id": "exotic-mathematics",
   "metadata": {},
   "outputs": [],
   "source": [
    "# errors"
   ]
  },
  {
   "cell_type": "code",
   "execution_count": 151,
   "id": "distant-revelation",
   "metadata": {},
   "outputs": [],
   "source": [
    "# basic of OO: attribute access"
   ]
  },
  {
   "cell_type": "code",
   "execution_count": null,
   "id": "backed-typing",
   "metadata": {},
   "outputs": [],
   "source": []
  }
 ],
 "metadata": {
  "kernelspec": {
   "display_name": "Python 3",
   "language": "python",
   "name": "python3"
  },
  "language_info": {
   "codemirror_mode": {
    "name": "ipython",
    "version": 3
   },
   "file_extension": ".py",
   "mimetype": "text/x-python",
   "name": "python",
   "nbconvert_exporter": "python",
   "pygments_lexer": "ipython3",
   "version": "3.9.2"
  },
  "toc-autonumbering": true
 },
 "nbformat": 4,
 "nbformat_minor": 5
}
